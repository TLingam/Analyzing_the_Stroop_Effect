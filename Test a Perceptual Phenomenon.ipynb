{
 "cells": [
  {
   "cell_type": "markdown",
   "metadata": {},
   "source": [
    "# Analyzing the Stroop Effect"
   ]
  },
  {
   "cell_type": "markdown",
   "metadata": {},
   "source": [
    "## Table of Contents\n",
    "- [Introduction](#intro)\n",
    "- [Background Information](#background)\n",
    "- [Question 1: Identify the variables](#variables)\n",
    "- [Question 2: Establish a set of Hypotheses](#hypotheses)\n",
    "- [Question 3: Calculate and report descriptive statistics](#statistics)\n",
    "- [Question 4: Data visualization](#plots)\n",
    "- [Question 5: Statistical test to confirm hypothesis](#test)\n",
    "- [Question 6: Final Report](#report)\n",
    "- [References](#references)"
   ]
  },
  {
   "cell_type": "markdown",
   "metadata": {},
   "source": [
    "<a id='intro'></a>\n",
    "## Introduction\n",
    "The Stroop effect is a demonstration of interference in the reaction time of a task. When the name of a color (e.g., \"blue\", \"green\", or \"red\") is printed in a color that is not denoted by the name (e.g., the word \"red\" printed in blue ink instead of red ink), naming the color of the word takes longer and is more prone to errors than when the color of the ink matches the name of the color."
   ]
  },
  {
   "cell_type": "markdown",
   "metadata": {},
   "source": [
    "<a id='background'></a>\n",
    "### Background Information\n",
    "In a Stroop task, participants are presented with a list of words, with each word displayed in a color of ink.<br> \n",
    "The participant’s task is to say out loud the color of the ink in which the word is printed.<br> \n",
    "The task has two conditions: a congruent words condition, and an incongruent words condition.<br> \n",
    "In the congruent words condition, the words being displayed are color words whose names match the colors in which they are printed: for example <font color='red'>RED</font>, <font color='blue'>BLUE</font>.<br> \n",
    "In the incongruent words condition, the words displayed are color words whose names do not match the colors in which they are printed: for example <font color='green'>PURPLE</font>, <font color='blue'>ORANGE</font>.<br> \n",
    "In each case, we measure the time it takes to name the ink colors in equally-sized lists.<br> \n",
    "Each participant will go through and record a time from each condition."
   ]
  },
  {
   "cell_type": "markdown",
   "metadata": {},
   "source": [
    "<a id='variables'></a>\n",
    "### Question 1 - Identify the variables\n",
    "***\n",
    "**(1) What is the independent variable? What is the dependent variable?**"
   ]
  },
  {
   "cell_type": "markdown",
   "metadata": {},
   "source": [
    "**Independent Variable**: The color of the words displayed to the participant.<br>\n",
    "**Dependent Variable**: The time taken by the participant to correctly name the color of the word."
   ]
  },
  {
   "cell_type": "markdown",
   "metadata": {},
   "source": [
    "<a id='hypotheses'></a>\n",
    "### Question 2 - Establish a set of Hypotheses\n",
    "***\n",
    "**(2) What is an appropriate set of hypotheses for this task? Specify null and alternative hypotheses, and clearly define any notation used. Justify your choices.**\n"
   ]
  },
  {
   "cell_type": "markdown",
   "metadata": {},
   "source": [
    "**What is an appropriate hypothesis?**<br>\n",
    "An appropriate hypothesis is one, which tries to validate the existence of the Stroop Effect. Stroop Effect suggests that the semantic facilitation displayed in case of congruent words, disappears in the case of incongruent words. Hence, there must be a difference in the central tendencies of the population from which the sample is derived.<br>\n",
    "In this test, we try to find if this difference is significant. Since, we cannot take into consideration the whole world population, we work with the samples given, hypothesize and statistically test to infer the result.\n",
    "***\n",
    "- **Null-hypothesis**\n",
    "\n",
    "$H_0:  μ_{Incongruent} - μ_{Congruent} = 0$ \n",
    "\n",
    "*i.e.* The **null hypothesis** is, there is no difference between the mean time taken to complete the tasks in the congruent words condition and the incongruent words condition.<br>\n",
    "The color mismatch of the words has no effect on the time taken.\n",
    "\n",
    "- **Alternative-hypothesis**\n",
    "\n",
    "$H_1: μ_{Incongruent} - μ_{Congruent} > 0$\n",
    "\n",
    "*i.e.* The **alternative hypothesis** is, the mean time taken to complete the incongruent words condition is greater than the congruent words condition.<br>\n",
    "The color mismatch of the words increases the time taken.\n",
    "\n",
    "$μ_{Incongruent}$ is population mean from which Congruent Words test sample is derived. <br>\n",
    "$μ_{Congruent}$ is population mean from which Incongruent Words test sample is derived.\n",
    "<br>\n",
    "***\n",
    "**Statistical Test proposed**<br>\n",
    "A paired *t-test* (dependent sample *t-test*) can be used for statistical analysis, as all the participants are asked to complete the task under two different conditions resulting in pairs of observations.\n",
    "<br>\n",
    "***\n",
    "**Assumptions**<br>\n",
    "- The data provided is a sample of the world population and the population standard deviation is unknown. (so a *t-statistic* is calculated)\n",
    "- Assume normal distribution of the population.\n",
    "- No outliers in the dependent variable.\n",
    "- The observations are independent of one another."
   ]
  },
  {
   "cell_type": "markdown",
   "metadata": {},
   "source": [
    "<a id='statistics'></a>\n",
    "### Question 3 - Calculate and report descriptive statistics\n",
    "***\n",
    "**(3) Report some descriptive statistics regarding this dataset. Include at least one measure of central tendency and at least one measure of variability. The name of the data file is 'stroopdata.csv'.**"
   ]
  },
  {
   "cell_type": "code",
   "execution_count": 1,
   "metadata": {},
   "outputs": [],
   "source": [
    "# Import required libraries\n",
    "\n",
    "import pandas as pd\n",
    "import numpy as np\n",
    "import matplotlib.pyplot as plt\n",
    "import seaborn as sns\n",
    "from scipy import stats\n",
    "%matplotlib inline"
   ]
  },
  {
   "cell_type": "code",
   "execution_count": 2,
   "metadata": {},
   "outputs": [],
   "source": [
    "# Read the data\n",
    "df = pd.read_csv('stroopdata.csv')"
   ]
  },
  {
   "cell_type": "code",
   "execution_count": 3,
   "metadata": {},
   "outputs": [
    {
     "data": {
      "text/html": [
       "<div>\n",
       "<style>\n",
       "    .dataframe thead tr:only-child th {\n",
       "        text-align: right;\n",
       "    }\n",
       "\n",
       "    .dataframe thead th {\n",
       "        text-align: left;\n",
       "    }\n",
       "\n",
       "    .dataframe tbody tr th {\n",
       "        vertical-align: top;\n",
       "    }\n",
       "</style>\n",
       "<table border=\"1\" class=\"dataframe\">\n",
       "  <thead>\n",
       "    <tr style=\"text-align: right;\">\n",
       "      <th></th>\n",
       "      <th>Congruent</th>\n",
       "      <th>Incongruent</th>\n",
       "    </tr>\n",
       "  </thead>\n",
       "  <tbody>\n",
       "    <tr>\n",
       "      <th>count</th>\n",
       "      <td>24.000000</td>\n",
       "      <td>24.000000</td>\n",
       "    </tr>\n",
       "    <tr>\n",
       "      <th>mean</th>\n",
       "      <td>14.051125</td>\n",
       "      <td>22.015917</td>\n",
       "    </tr>\n",
       "    <tr>\n",
       "      <th>std</th>\n",
       "      <td>3.559358</td>\n",
       "      <td>4.797057</td>\n",
       "    </tr>\n",
       "    <tr>\n",
       "      <th>min</th>\n",
       "      <td>8.630000</td>\n",
       "      <td>15.687000</td>\n",
       "    </tr>\n",
       "    <tr>\n",
       "      <th>25%</th>\n",
       "      <td>11.895250</td>\n",
       "      <td>18.716750</td>\n",
       "    </tr>\n",
       "    <tr>\n",
       "      <th>50%</th>\n",
       "      <td>14.356500</td>\n",
       "      <td>21.017500</td>\n",
       "    </tr>\n",
       "    <tr>\n",
       "      <th>75%</th>\n",
       "      <td>16.200750</td>\n",
       "      <td>24.051500</td>\n",
       "    </tr>\n",
       "    <tr>\n",
       "      <th>max</th>\n",
       "      <td>22.328000</td>\n",
       "      <td>35.255000</td>\n",
       "    </tr>\n",
       "  </tbody>\n",
       "</table>\n",
       "</div>"
      ],
      "text/plain": [
       "       Congruent  Incongruent\n",
       "count  24.000000    24.000000\n",
       "mean   14.051125    22.015917\n",
       "std     3.559358     4.797057\n",
       "min     8.630000    15.687000\n",
       "25%    11.895250    18.716750\n",
       "50%    14.356500    21.017500\n",
       "75%    16.200750    24.051500\n",
       "max    22.328000    35.255000"
      ]
     },
     "execution_count": 3,
     "metadata": {},
     "output_type": "execute_result"
    }
   ],
   "source": [
    "# Descriptive Statistics\n",
    "df.describe()"
   ]
  },
  {
   "cell_type": "code",
   "execution_count": 4,
   "metadata": {},
   "outputs": [
    {
     "data": {
      "text/plain": [
       "Congruent      14.3565\n",
       "Incongruent    21.0175\n",
       "dtype: float64"
      ]
     },
     "execution_count": 4,
     "metadata": {},
     "output_type": "execute_result"
    }
   ],
   "source": [
    "# Descriptive Statistics cont.\n",
    "df.median()"
   ]
  },
  {
   "cell_type": "code",
   "execution_count": 5,
   "metadata": {},
   "outputs": [
    {
     "data": {
      "text/plain": [
       "array([[<matplotlib.axes._subplots.AxesSubplot object at 0x7fc674df2128>,\n",
       "        <matplotlib.axes._subplots.AxesSubplot object at 0x7fc672dbaf60>]], dtype=object)"
      ]
     },
     "execution_count": 5,
     "metadata": {},
     "output_type": "execute_result"
    },
    {
     "data": {
      "image/png": "[encoded data removed]",
      "text/plain": [
       "<matplotlib.figure.Figure at 0x7fc674e269e8>"
      ]
     },
     "metadata": {},
     "output_type": "display_data"
    }
   ],
   "source": [
    "# Visualize the distribution of data\n",
    "df.hist()"
   ]
  },
  {
   "cell_type": "markdown",
   "metadata": {},
   "source": [
    "#### Descriptive statistics calculated\n",
    "-  **Congruent words sample**\n",
    "    -  *Mean* - 14.0511\n",
    "    -  *Median* - 14.3565\n",
    "    -  *Standard deviation* - 3.5593\n",
    "***\n",
    "-  **Incongruent words sample**\n",
    "    - *Mean* - 22.0159\n",
    "    - *Median* - 21.0175\n",
    "    - *Standard deviation* - 4.7970\n"
   ]
  },
  {
   "cell_type": "markdown",
   "metadata": {},
   "source": [
    "<a id='plots'></a>\n",
    "### Question 4 - Data visualization\n",
    "***\n",
    "**(4) Provide one or two visualizations that show the distribution of the sample data. Write one or two sentences noting what you observe about the plot or plots.**"
   ]
  },
  {
   "cell_type": "code",
   "execution_count": 6,
   "metadata": {},
   "outputs": [
    {
     "data": {
      "image/png": "[encoded data removed]",
      "text/plain": [
       "<matplotlib.figure.Figure at 0x7fc672d216d8>"
      ]
     },
     "metadata": {},
     "output_type": "display_data"
    }
   ],
   "source": [
    "# Boxplot\n",
    "ax = df.plot(title = 'Congruent vs Incongruent Condition samples', kind = 'box')\n",
    "ylabel = plt.ylabel('Time (seconds)')\n",
    "ax.set_facecolor(\"yellow\")"
   ]
  },
  {
   "cell_type": "markdown",
   "metadata": {},
   "source": [
    "#### Observations\n",
    "-  The boxplot displays significant difference in the median of the time taken in the two sample sets.\n",
    "-  The prescence of a couple of outliers in the *incongruent* condition sample, shows a wider range of time difference compared to *congruent* condition sample. "
   ]
  },
  {
   "cell_type": "code",
   "execution_count": 7,
   "metadata": {},
   "outputs": [
    {
     "data": {
      "image/png": "[encoded data removed]",
      "text/plain": [
       "<matplotlib.figure.Figure at 0x7fc672c93128>"
      ]
     },
     "metadata": {},
     "output_type": "display_data"
    }
   ],
   "source": [
    "# Histogram\n",
    "fig, ax = plt.subplots()\n",
    "rects1 = ax.bar(np.arange(len(df.index)) # index on x-axis\n",
    "                , df['Congruent'], width = 0.50 # the width of the bars\n",
    "                , color = 'g', alpha = 0.5)\n",
    "rects2 = ax.bar(np.arange(len(df.index)) # index on x-axis\n",
    "                , df['Incongruent'], width = 0.50 # the width of the bars\n",
    "                , color = 'y', alpha = 0.5)\n",
    "\n",
    "# Add title, labels and axes ticks\n",
    "ax.set_ylabel('Time(seconds)')\n",
    "ax.set_xlabel('Participants')\n",
    "ax.set_title('Congruent VS Incongruent Condition samples')\n",
    "ax.legend((rects1[0], rects2[0]), ('Congruent', 'Incongruent'))\n",
    "plt.show()"
   ]
  },
  {
   "cell_type": "markdown",
   "metadata": {},
   "source": [
    "#### Observations\n",
    "-  The histogram shows the comparison between the *Congruent* and *Incongruent* data.\n",
    "-  It can be seen that every participant takes longer to complete the *Incongruent* condition task."
   ]
  },
  {
   "cell_type": "markdown",
   "metadata": {},
   "source": [
    "<a id='test'></a>\n",
    "### Question 5 - Statistical test to confirm hypothesis\n",
    "***\n",
    "(5)  Now, perform the statistical test and report your results. What is your confidence level or Type I error associated with your test? What is your conclusion regarding the hypotheses you set up? Did the results match up with your expectations?"
   ]
  },
  {
   "cell_type": "code",
   "execution_count": 14,
   "metadata": {},
   "outputs": [
    {
     "name": "stdout",
     "output_type": "stream",
     "text": [
      "    Congruent  Incongruent  Difference\n",
      "0      12.079       19.278      -7.199\n",
      "1      16.791       18.741      -1.950\n",
      "2       9.564       21.214     -11.650\n",
      "3       8.630       15.687      -7.057\n",
      "4      14.669       22.803      -8.134\n",
      "5      12.238       20.878      -8.640\n",
      "6      14.692       24.572      -9.880\n",
      "7       8.987       17.394      -8.407\n",
      "8       9.401       20.762     -11.361\n",
      "9      14.480       26.282     -11.802\n",
      "10     22.328       24.524      -2.196\n",
      "11     15.298       18.644      -3.346\n",
      "12     15.073       17.510      -2.437\n",
      "13     16.929       20.330      -3.401\n",
      "14     18.200       35.255     -17.055\n",
      "15     12.130       22.158     -10.028\n",
      "16     18.495       25.139      -6.644\n",
      "17     10.639       20.429      -9.790\n",
      "18     11.344       17.425      -6.081\n",
      "19     12.369       34.288     -21.919\n",
      "20     12.944       23.894     -10.950\n",
      "21     14.233       17.960      -3.727\n",
      "22     19.710       22.058      -2.348\n",
      "23     16.004       21.157      -5.153\n"
     ]
    }
   ],
   "source": [
    "# Find the difference in the time taken for completing both tasks\n",
    "## Add a new column to the dataframe - difference\n",
    "df['Difference'] = df['Congruent'] - df['Incongruent']\n",
    "print(df)"
   ]
  },
  {
   "cell_type": "code",
   "execution_count": 15,
   "metadata": {},
   "outputs": [
    {
     "data": {
      "text/html": [
       "<div>\n",
       "<style>\n",
       "    .dataframe thead tr:only-child th {\n",
       "        text-align: right;\n",
       "    }\n",
       "\n",
       "    .dataframe thead th {\n",
       "        text-align: left;\n",
       "    }\n",
       "\n",
       "    .dataframe tbody tr th {\n",
       "        vertical-align: top;\n",
       "    }\n",
       "</style>\n",
       "<table border=\"1\" class=\"dataframe\">\n",
       "  <thead>\n",
       "    <tr style=\"text-align: right;\">\n",
       "      <th></th>\n",
       "      <th>Congruent</th>\n",
       "      <th>Incongruent</th>\n",
       "      <th>Difference</th>\n",
       "    </tr>\n",
       "  </thead>\n",
       "  <tbody>\n",
       "    <tr>\n",
       "      <th>count</th>\n",
       "      <td>24.000000</td>\n",
       "      <td>24.000000</td>\n",
       "      <td>24.000000</td>\n",
       "    </tr>\n",
       "    <tr>\n",
       "      <th>mean</th>\n",
       "      <td>14.051125</td>\n",
       "      <td>22.015917</td>\n",
       "      <td>-7.964792</td>\n",
       "    </tr>\n",
       "    <tr>\n",
       "      <th>std</th>\n",
       "      <td>3.559358</td>\n",
       "      <td>4.797057</td>\n",
       "      <td>4.864827</td>\n",
       "    </tr>\n",
       "    <tr>\n",
       "      <th>min</th>\n",
       "      <td>8.630000</td>\n",
       "      <td>15.687000</td>\n",
       "      <td>-21.919000</td>\n",
       "    </tr>\n",
       "    <tr>\n",
       "      <th>25%</th>\n",
       "      <td>11.895250</td>\n",
       "      <td>18.716750</td>\n",
       "      <td>-10.258500</td>\n",
       "    </tr>\n",
       "    <tr>\n",
       "      <th>50%</th>\n",
       "      <td>14.356500</td>\n",
       "      <td>21.017500</td>\n",
       "      <td>-7.666500</td>\n",
       "    </tr>\n",
       "    <tr>\n",
       "      <th>75%</th>\n",
       "      <td>16.200750</td>\n",
       "      <td>24.051500</td>\n",
       "      <td>-3.645500</td>\n",
       "    </tr>\n",
       "    <tr>\n",
       "      <th>max</th>\n",
       "      <td>22.328000</td>\n",
       "      <td>35.255000</td>\n",
       "      <td>-1.950000</td>\n",
       "    </tr>\n",
       "  </tbody>\n",
       "</table>\n",
       "</div>"
      ],
      "text/plain": [
       "       Congruent  Incongruent  Difference\n",
       "count  24.000000    24.000000   24.000000\n",
       "mean   14.051125    22.015917   -7.964792\n",
       "std     3.559358     4.797057    4.864827\n",
       "min     8.630000    15.687000  -21.919000\n",
       "25%    11.895250    18.716750  -10.258500\n",
       "50%    14.356500    21.017500   -7.666500\n",
       "75%    16.200750    24.051500   -3.645500\n",
       "max    22.328000    35.255000   -1.950000"
      ]
     },
     "execution_count": 15,
     "metadata": {},
     "output_type": "execute_result"
    }
   ],
   "source": [
    "# Descriptive statistics of the new dataset\n",
    "df.describe()"
   ]
  },
  {
   "cell_type": "code",
   "execution_count": 21,
   "metadata": {},
   "outputs": [],
   "source": [
    "# t-test\n",
    "## Set the columns to lists \n",
    "Incongruent = df['Incongruent'].values.tolist()\n",
    "Congruent = df['Congruent'].values.tolist()\n",
    "\n",
    "## Perform t-test\n",
    "tstat, pvalue = stats.ttest_rel(Congruent, Incongruent)\n",
    "\n",
    "## Calculate Confidence Interval (α = 0.01)\n",
    "confidence_interval = stats.t.interval(0.99, len(df)-1, loc=np.mean(df), scale=stats.sem(df))"
   ]
  },
  {
   "cell_type": "code",
   "execution_count": 22,
   "metadata": {},
   "outputs": [
    {
     "name": "stdout",
     "output_type": "stream",
     "text": [
      "t-statistic is -8.0207\n",
      "p-value is 4e-08\n",
      "(array([ 12.01145273,  19.26698708, -10.75255639]), array([ 16.09079727,  24.76484625,  -5.17702695]))\n"
     ]
    }
   ],
   "source": [
    "# Display the calculated results\n",
    "print('t-statistic is', round(tstat, 4))\n",
    "print('p-value is', round(pvalue, 8))\n",
    "print(confidence_interval)"
   ]
  },
  {
   "cell_type": "markdown",
   "metadata": {},
   "source": [
    "#### Results\n",
    " -  The test done is a Two-tailed test (upper tailed).\n",
    " -  The degrees of freedom '$df = (n-1)$' is **23**.\n",
    " -  The confidence level is 99%, i.e, α = 0.01.\n",
    " -  The *t-critical* statistic is $± 2.807$.\n",
    " -  The calculated *t-statistic* is $-8.0207$.\n",
    " -  The confidence interval is $(-10.7525, -5.1770)$.\n",
    " -  The p-value is 0.00000004. \n",
    "<br>\n",
    "***\n",
    "### Conclusion\n",
    "**The Null Hypothesis ($H_0:  μ_{Incongruent} - μ_{Congruent} = 0$) is rejected** based on the following reasons.\n",
    "-  The p-value (0.00000004) is significantly smaller than our α value (0.01).\n",
    "-  The t-statistic ($-8.0207$) is significantly smaller than our *t-critical* statistic ($± 2.807$).\n",
    "<br>\n",
    "<br>\n",
    "> **The alternative hypothesis ($H_1: μ_{Incongruent} - μ_{Congruent} > 0$) is true.<br> \n",
    "Patricipants take longer to complete the Incongruent words task.**"
   ]
  },
  {
   "cell_type": "markdown",
   "metadata": {},
   "source": [
    "<a id='report'></a>\n",
    "### Question 6 - Final Report\n",
    "***\n",
    "(6) What do you think is responsible for the effects observed? Can you think of an alternative or similar task that would result in a similar effect?"
   ]
  },
  {
   "cell_type": "markdown",
   "metadata": {},
   "source": [
    "**Why does the Stroop Effect happen?**\n",
    "> As habitual readers, we encounter and comprehend words on a regular basis. The reading occurs almost effortlessly, whereas declaration of a color requires more cognitive effort. \n",
    "<br>\n",
    "When there is a conflict between these two sources of information, cognitive load is increased, and our brain has to work harder to resolve the required difference. \n",
    "<br>\n",
    "Performing these tasks (preventing reading, processing word color, and resolving information conflict) ultimately slows down our responses, and makes the task take longer.\n",
    "<br>\n",
    "There are a few theories explaining the cause of Stroop effect. The popular ones emphasize the automaticity of reading and the mental prioritizing that we perform when reading as the primary cause of Stroop interference. "
   ]
  },
  {
   "cell_type": "markdown",
   "metadata": {},
   "source": [
    "**Alternative ways to exploit the Stroop Effect**\n",
    "> The Stroop test can be used to assess an individuals cognitive processing speed, level of cognitive control and attention capacity.\n",
    "<br>\n",
    "The Stroop test can be used in multiple ways to reveal more about the cognitive processes that underlie explicit thought.\n",
    "1. *Emotional Stroop Test* \n",
    " - In this version, participants complete the original Stroop test and a version with neutral & emotionally charged words (eg words: pain, joy). <br>\n",
    " This test shows that people under emotional stress likely experience more interference.\n",
    " <br>\n",
    " <br>\n",
    "2. *Numerical Stroop Test*\n",
    " - In this version, participants complete the original Stroop test and a version with numbers of incongruent sizes next to each other. <br>\n",
    " This test shows that incongruent sizes will cause the greatest interference, causing a delay in comprehension.<br> \n",
    " This test also shows that automatic processing is not just limited to words, suggesting that the brain looks for normal patterns in a variety of presented stimuli, as it appears to struggle when this doesn’t occur."
   ]
  },
  {
   "cell_type": "markdown",
   "metadata": {},
   "source": [
    "<a id='references'></a>\n",
    "### References\n",
    "1) https://en.wikipedia.org/wiki/Stroop_effect <br>\n",
    "2) https://faculty.washington.edu/chudler/words.html#seffect <br>\n",
    "3) https://www.statisticssolutions.com/manova-analysis-paired-sample-t-test/ <br>\n",
    "4) https://www.medcalc.org/manual/t-distribution.php <br>\n",
    "5) https://imotions.com/blog/the-stroop-effect/"
   ]
  }
 ],
 "metadata": {
  "kernelspec": {
   "display_name": "Python 3",
   "language": "python",
   "name": "python3"
  },
  "language_info": {
   "codemirror_mode": {
    "name": "ipython",
    "version": 3
   },
   "file_extension": ".py",
   "mimetype": "text/x-python",
   "name": "python",
   "nbconvert_exporter": "python",
   "pygments_lexer": "ipython3",
   "version": "3.6.3"
  }
 },
 "nbformat": 4,
 "nbformat_minor": 2
}
